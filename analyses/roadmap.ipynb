{
 "cells": [
  {
   "cell_type": "code",
   "execution_count": null,
   "metadata": {},
   "outputs": [],
   "source": [
    "Voici la version corrigée du texte avec les ajustements intégrés :\n",
    "\n",
    "Roadmap Structurée et Optimisée : Projet Data Pipeline et Modélisation\n",
    "\n",
    "1. Initialisation et Configuration de l’Infrastructure\n",
    "\n",
    "\t•\tDurée : 2 jours\n",
    "\t•\tLivrables :\n",
    "\t•\tConfiguration de l’environnement GCP (IAM, VM, etc.).\n",
    "\t•\tMise en place des outils nécessaires pour l’ETL : Airbyte (self-hosted) et DataDog.\n",
    "\t•\tDocumentation des configurations pour assurer la maintenance et la continuité.\n",
    "\n",
    "2. Extraction et Chargement (ETL)\n",
    "\n",
    "\t•\tDurée : 5 jours\n",
    "\t•\tInstallation et configuration d’Airbyte : 2 jours.\n",
    "\t•\tPhase de test et d’observation (reverse ETL - Hubspot => GCP) : 3 jours, avec intégration et suivi via DataDog.\n",
    "\t•\tLivrables :\n",
    "\t•\tDéploiement d’Airbyte en mode self-hosted sur une VM GCP.\n",
    "\t•\tConnexion Hubspot => GCP fonctionnelle.\n",
    "\t•\tMonitoring en temps réel des processus ETL avec DataDog.\n",
    "\n",
    "3. Exploration des Données (EDA)\n",
    "\n",
    "\t•\tDurée : 2 jours\n",
    "\t•\tLivrables :\n",
    "\t•\tAnalyse exploratoire des données extraites et chargées.\n",
    "\t•\tCollaboration avec les parties prenantes (Data Analysts, Data Scientists, Analytics Engineers).\n",
    "\t•\tRapport des insights initiaux et alignement sur les besoins métiers.\n",
    "\n",
    "4. Transformation des Données\n",
    "\n",
    "\t•\tDurée : 6 jours (dont 1.5 jours pour les tests)\n",
    "\t•\tJour 1 : Configuration et mise en place de dbt Cloud.\n",
    "\t•\tJour 2 : Monitoring des workflows dbt avec DataDog.\n",
    "\t•\tJour 3 : Création des modèles Bronze (raw data consolidée).\n",
    "\t•\tJour 4 : Création des modèles Silver (préparation intermédiaire).\n",
    "\t•\tJour 5 : Création des modèles Gold (prêts pour les analyses finales).\n",
    "\t•\tJours 6 à 6.5 : Ajout des tests unitaires (1.5 jours) pour garantir la qualité des données.\n",
    "\t•\tLivrables :\n",
    "\t•\tModèles dbt : Bronze, Silver, et Gold, prêts pour l’analyse.\n",
    "\t•\tTests de validation des données intégrés.\n",
    "\n",
    "Points Clés :\n",
    "\n",
    "\t•\tNombre de collaborateurs : 2.\n",
    "\t•\tDurée totale estimée : 15 jours (3 sprints).\n",
    "\t•\tOutils utilisés : GCP (VM + IAM), Airbyte, dbt Cloud, DataDog.\n",
    "\n",
    "Si vous souhaitez d’autres ajustements, je peux encore affiner ! 😊"
   ]
  }
 ],
 "metadata": {
  "kernelspec": {
   "display_name": "dbt_crm_venv",
   "language": "python",
   "name": "python3"
  },
  "language_info": {
   "name": "python",
   "version": "3.13.0"
  }
 },
 "nbformat": 4,
 "nbformat_minor": 2
}
